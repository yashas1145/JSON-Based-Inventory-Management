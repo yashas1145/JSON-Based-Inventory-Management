{
  "nbformat": 4,
  "nbformat_minor": 0,
  "metadata": {
    "colab": {
      "name": "JSON Stuff Inventory mgmt.ipynb",
      "provenance": [],
      "collapsed_sections": []
    },
    "kernelspec": {
      "name": "python3",
      "display_name": "Python 3"
    },
    "language_info": {
      "name": "python"
    }
  },
  "cells": [
    {
      "cell_type": "code",
      "metadata": {
        "id": "WHRuYLCyq0iz"
      },
      "source": [
        "record={1001:{\"item\":\"Milk\",\"quantity\":10,\"Price\":25,\"In store\":24},\n",
        "1002:{\"item\":\"Cheese\",\"quantity\":50,\"Price\":120,\"In store\":110},\n",
        "1003:{\"item\":\"Butter\",\"quantity\":50,\"Price\":100,\"In store\":100},\n",
        "1004:{\"item\":\"Ghee\",\"quantity\":10,\"Price\":125,\"In store\":125},\n",
        "1005:{\"item\":\"Juice\",\"quantity\":10,\"Price\":95,\"In store\":95},\n",
        "1006:{\"item\":\"Chocolate\",\"quantity\":11,\"Price\":80,\"In store\":75},\n",
        "1007:{\"item\":\"Cookies\",\"quantity\":12,\"Price\":20,\"In store\":18},\n",
        "1008:{\"item\":\"Biscuits\",\"quantity\":21,\"Price\":20,\"In store\":15},\n",
        "1009:{\"item\":\"Wafers\",\"quantity\":18,\"Price\":25,\"In store\":17},\n",
        "1010:{\"item\":\"Dal\",\"quantity\":100,\"Price\":65,\"In store\":65},\n",
        "1011:{\"item\":\"Rice\",\"quantity\":21,\"Price\":55,\"In store\":55},\n",
        "1012:{\"item\":\"BoiledRice\",\"quantity\":31,\"Price\":55,\"In store\":55},\n",
        "1013:{\"item\":\"WholeWheat\",\"quantity\":18,\"Price\":45,\"In store\":44},\n",
        "1014:{\"item\":\"Maida\",\"quantity\":14,\"Price\":28,\"In store\":20},\n",
        "1015:{\"item\":\"RiceFloor\",\"quantity\":51,\"Price\":70,\"In store\":55},\n",
        "1016:{\"item\":\"WheatFloor\",\"quantity\":41,\"Price\":46,\"In store\":35},\n",
        "1017:{\"item\":\"DishWash\",\"quantity\":18,\"Price\":85,\"In store\":80},\n",
        "1018:{\"item\":\"BodyWash\",\"quantity\":15,\"Price\":185,\"In store\":182},\n",
        "1019:{\"item\":\"FaceWash\",\"quantity\":14,\"Price\":55,\"In store\":54},\n",
        "1020:{\"item\":\"Noodels\",\"quantity\":12,\"Price\":86,\"In store\":80},\n",
        "1021:{\"item\":\"Chips\",\"quantity\":12,\"Price\":10,\"In store\":10},\n",
        "1022:{\"item\":\"Nachos\",\"quantity\":15,\"Price\":55,\"In store\":45},\n",
        "1023:{\"item\":\"Sugar\",\"quantity\":81,\"Price\":114,\"In store\":110},\n",
        "1024:{\"item\":\"Jaggery\",\"quantity\":15,\"Price\":95,\"In store\":85},\n",
        "1025:{\"item\":\"ToothPaste\",\"quantity\":11,\"Price\":105,\"In store\":85},\n",
        "1026:{\"item\":\"ToothBrush\",\"quantity\":10,\"Price\":18,\"In store\":15},\n",
        "1027:{\"item\":\"CookingOil\",\"quantity\":21,\"Price\":125,\"In store\":115},\n",
        "1028:{\"item\":\"GramFloor\",\"quantity\":15,\"Price\":35,\"In store\":27},\n",
        "1029:{\"item\":\"Paneer\",\"quantity\":18,\"Price\":155,\"In store\":150},\n",
        "1030:{\"item\":\"CuminSeeds\",\"quantity\":51,\"Price\":55,\"In store\":40}}"
      ],
      "execution_count": 1,
      "outputs": []
    },
    {
      "cell_type": "code",
      "metadata": {
        "id": "roGiA5kOrEGK"
      },
      "source": [
        "import json\n",
        "js = json.dumps(record)"
      ],
      "execution_count": 5,
      "outputs": []
    },
    {
      "cell_type": "code",
      "metadata": {
        "id": "q_oqH_Q1rP_0"
      },
      "source": [
        "f = open(\"Record.json\", \"w\")\n",
        "f.write(js)\n",
        "f.close()"
      ],
      "execution_count": 6,
      "outputs": []
    },
    {
      "cell_type": "code",
      "metadata": {
        "colab": {
          "base_uri": "https://localhost:8080/"
        },
        "id": "hX6U_L_lride",
        "outputId": "1b90f6fb-6c1a-4ff5-c599-30027d1512d1"
      },
      "source": [
        "n=int(input(\"Enter number of products :\"))\n",
        "total=0\n",
        "for i in range (n):\n",
        "  item_id=int(input(\"Enter item ID :\"))\n",
        "  item_quantity=input(\"Enter the number of items :\")\n",
        "  print(record[item_id])\n",
        "  t=int(item_quantity)*int(record[item_id]['In store'])\n",
        "  total=total+t\n",
        "  print(\"\\n\")"
      ],
      "execution_count": 8,
      "outputs": [
        {
          "output_type": "stream",
          "name": "stdout",
          "text": [
            "Enter number of products :2\n",
            "Enter item ID :1024\n",
            "Enter the number of items :5\n",
            "{'item': 'Jaggery', 'quantity': 15, 'M.R.P': 95, 'In store': 85}\n",
            "\n",
            "\n",
            "Enter item ID :1012\n",
            "Enter the number of items :8\n",
            "{'item': 'BoiledRice', 'quantity': 31, 'M.R.P': 55, 'In store': 55}\n",
            "\n",
            "\n"
          ]
        }
      ]
    }
  ]
}