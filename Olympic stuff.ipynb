{
  "nbformat": 4,
  "nbformat_minor": 0,
  "metadata": {
    "colab": {
      "name": "OlympicStuff.ipynb",
      "provenance": []
    },
    "kernelspec": {
      "name": "python3",
      "display_name": "Python 3"
    },
    "language_info": {
      "name": "python"
    }
  },
  "cells": [
    {
      "cell_type": "code",
      "metadata": {
        "id": "PtCABCvSxDP3"
      },
      "source": [
        "import pandas as pd \n",
        "import numpy as np"
      ],
      "execution_count": 1,
      "outputs": []
    },
    {
      "cell_type": "code",
      "metadata": {
        "id": "yIxsda49x7MV"
      },
      "source": [
        "f = pd.read_csv(\"summer.csv\")"
      ],
      "execution_count": 6,
      "outputs": []
    },
    {
      "cell_type": "code",
      "metadata": {
        "colab": {
          "base_uri": "https://localhost:8080/"
        },
        "id": "CaVC77qqyCVe",
        "outputId": "8d6f023d-bd71-447b-c399-5b60b94144e0"
      },
      "source": [
        "#@title Cities in which olympics have been held so far\n",
        "len(f['City'].unique())"
      ],
      "execution_count": 8,
      "outputs": [
        {
          "output_type": "execute_result",
          "data": {
            "text/plain": [
              "22"
            ]
          },
          "metadata": {},
          "execution_count": 8
        }
      ]
    },
    {
      "cell_type": "code",
      "metadata": {
        "colab": {
          "base_uri": "https://localhost:8080/"
        },
        "id": "9PBFg19fzRWp",
        "outputId": "20d186bc-cd58-40db-c2d9-6165d6fb6fea"
      },
      "source": [
        "#@title Sport having most gold medal award\n",
        "for Medal in f['Medal'].unique():  \n",
        "    print(Medal,\":\",len(f[f['Medal']=='Gold']))"
      ],
      "execution_count": 9,
      "outputs": [
        {
          "output_type": "stream",
          "name": "stdout",
          "text": [
            "Gold : 10486\n",
            "Silver : 10486\n",
            "Bronze : 10486\n"
          ]
        }
      ]
    },
    {
      "cell_type": "code",
      "metadata": {
        "colab": {
          "base_uri": "https://localhost:8080/"
        },
        "id": "E1WVKXf5zdaA",
        "outputId": "2fdd1050-67a1-4829-e4c2-36114540fa41"
      },
      "source": [
        "#@title Sport having most medals so far\n",
        "data  =f.groupby(['Sport']).count()['Medal'].sort_values(ascending=False).head()\n",
        "print(data)"
      ],
      "execution_count": 10,
      "outputs": [
        {
          "output_type": "stream",
          "name": "stdout",
          "text": [
            "Sport\n",
            "Aquatics      4170\n",
            "Athletics     3638\n",
            "Rowing        2667\n",
            "Gymnastics    2307\n",
            "Fencing       1613\n",
            "Name: Medal, dtype: int64\n"
          ]
        }
      ]
    },
    {
      "cell_type": "code",
      "metadata": {
        "colab": {
          "base_uri": "https://localhost:8080/"
        },
        "id": "_nxHQbz2zqmy",
        "outputId": "610aa678-1f5b-44ea-ec0f-c3d0b470edee"
      },
      "source": [
        "#@title Player having most number of medals\n",
        "data=f.groupby(['Athlete']).count()['Medal'].sort_values(ascending=False).head()\n",
        "print(data)"
      ],
      "execution_count": 11,
      "outputs": [
        {
          "output_type": "stream",
          "name": "stdout",
          "text": [
            "Athlete\n",
            "PHELPS, Michael         22\n",
            "LATYNINA, Larisa        18\n",
            "ANDRIANOV, Nikolay      15\n",
            "MANGIAROTTI, Edoardo    13\n",
            "SHAKHLIN, Boris         13\n",
            "Name: Medal, dtype: int64\n"
          ]
        }
      ]
    },
    {
      "cell_type": "code",
      "metadata": {
        "colab": {
          "base_uri": "https://localhost:8080/"
        },
        "id": "1RFOdIxvz28C",
        "outputId": "58d80498-e2f1-45d6-d2bc-f4d97ce89b29"
      },
      "source": [
        "#@title Player having most number of gold medals\n",
        "df = f[f['Medal']=='Gold']\n",
        "data=df.groupby(['Athlete']).count()['Medal'].sort_values(ascending=False).head()\n",
        "print (data)"
      ],
      "execution_count": 12,
      "outputs": [
        {
          "output_type": "stream",
          "name": "stdout",
          "text": [
            "Athlete\n",
            "PHELPS, Michael     18\n",
            "NURMI, Paavo         9\n",
            "SPITZ, Mark          9\n",
            "LEWIS, Carl          9\n",
            "LATYNINA, Larisa     9\n",
            "Name: Medal, dtype: int64\n"
          ]
        }
      ]
    },
    {
      "cell_type": "code",
      "metadata": {
        "colab": {
          "base_uri": "https://localhost:8080/",
          "height": 114
        },
        "id": "bo4U2lzI0HWA",
        "outputId": "77e6cc66-30cf-43eb-ed71-5335f9353ee0"
      },
      "source": [
        "#@title Year in which India won a gold medal\n",
        "df = f[f['Medal']=='Gold']\n",
        "df[f['Country']=='IND'].head(1)"
      ],
      "execution_count": 13,
      "outputs": [
        {
          "output_type": "stream",
          "name": "stderr",
          "text": [
            "/usr/local/lib/python3.7/dist-packages/ipykernel_launcher.py:3: UserWarning: Boolean Series key will be reindexed to match DataFrame index.\n",
            "  This is separate from the ipykernel package so we can avoid doing imports until\n"
          ]
        },
        {
          "output_type": "execute_result",
          "data": {
            "text/html": [
              "<div>\n",
              "<style scoped>\n",
              "    .dataframe tbody tr th:only-of-type {\n",
              "        vertical-align: middle;\n",
              "    }\n",
              "\n",
              "    .dataframe tbody tr th {\n",
              "        vertical-align: top;\n",
              "    }\n",
              "\n",
              "    .dataframe thead th {\n",
              "        text-align: right;\n",
              "    }\n",
              "</style>\n",
              "<table border=\"1\" class=\"dataframe\">\n",
              "  <thead>\n",
              "    <tr style=\"text-align: right;\">\n",
              "      <th></th>\n",
              "      <th>Year</th>\n",
              "      <th>City</th>\n",
              "      <th>Sport</th>\n",
              "      <th>Discipline</th>\n",
              "      <th>Athlete</th>\n",
              "      <th>Country</th>\n",
              "      <th>Gender</th>\n",
              "      <th>Event</th>\n",
              "      <th>Medal</th>\n",
              "    </tr>\n",
              "  </thead>\n",
              "  <tbody>\n",
              "    <tr>\n",
              "      <th>5512</th>\n",
              "      <td>1928</td>\n",
              "      <td>Amsterdam</td>\n",
              "      <td>Hockey</td>\n",
              "      <td>Hockey</td>\n",
              "      <td>ALLEN, Richard James</td>\n",
              "      <td>IND</td>\n",
              "      <td>Men</td>\n",
              "      <td>Hockey</td>\n",
              "      <td>Gold</td>\n",
              "    </tr>\n",
              "  </tbody>\n",
              "</table>\n",
              "</div>"
            ],
            "text/plain": [
              "      Year       City   Sport Discipline  ... Country Gender   Event Medal\n",
              "5512  1928  Amsterdam  Hockey     Hockey  ...     IND    Men  Hockey  Gold\n",
              "\n",
              "[1 rows x 9 columns]"
            ]
          },
          "metadata": {},
          "execution_count": 13
        }
      ]
    },
    {
      "cell_type": "code",
      "metadata": {
        "colab": {
          "base_uri": "https://localhost:8080/"
        },
        "id": "bszMj35S0TXn",
        "outputId": "b642537e-960b-441c-b563-0ed5d364d20c"
      },
      "source": [
        "#@title Event which is popular in terms of players\n",
        "data = f.groupby(['Event']).count()['Athlete'].sort_values(ascending=False).head()\n",
        "print(data)"
      ],
      "execution_count": 14,
      "outputs": [
        {
          "output_type": "stream",
          "name": "stdout",
          "text": [
            "Event\n",
            "Football            1497\n",
            "Hockey              1422\n",
            "Team Competition    1147\n",
            "Basketball          1012\n",
            "Handball             973\n",
            "Name: Athlete, dtype: int64\n"
          ]
        }
      ]
    },
    {
      "cell_type": "code",
      "metadata": {
        "colab": {
          "base_uri": "https://localhost:8080/"
        },
        "id": "pUWJBFqT0dvk",
        "outputId": "51a328da-d203-409f-bf0a-61a165709c55"
      },
      "source": [
        "#@title Sport having most number of female medalists\n",
        "df2 = df[f['Gender']=='Women']\n",
        "df1 = f[f['Medal']=='Gold']\n",
        "data=df2.groupby(['Sport']).count()['Gender'].sort_values(ascending=False).head()\n",
        "print(data)"
      ],
      "execution_count": 16,
      "outputs": [
        {
          "output_type": "stream",
          "name": "stdout",
          "text": [
            "Sport\n",
            "Aquatics      589\n",
            "Athletics     389\n",
            "Gymnastics    268\n",
            "Rowing        217\n",
            "Volleyball    166\n",
            "Name: Gender, dtype: int64\n"
          ]
        },
        {
          "output_type": "stream",
          "name": "stderr",
          "text": [
            "/usr/local/lib/python3.7/dist-packages/ipykernel_launcher.py:2: UserWarning: Boolean Series key will be reindexed to match DataFrame index.\n",
            "  \n"
          ]
        }
      ]
    }
  ]
}